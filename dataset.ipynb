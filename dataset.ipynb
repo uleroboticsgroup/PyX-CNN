{
 "cells": [
  {
   "cell_type": "code",
   "execution_count": 1,
   "id": "304b8a92",
   "metadata": {},
   "outputs": [],
   "source": [
    "import scipy.io\n",
    "import cv2\n",
    "import shutil\n",
    "import numpy as np\n",
    "from matplotlib import pyplot as plt\n",
    "import pandas as pd\n",
    "import os\n",
    "from scipy.io import loadmat"
   ]
  },
  {
   "cell_type": "code",
   "execution_count": 2,
   "id": "adb315c9",
   "metadata": {},
   "outputs": [],
   "source": [
    "folder= 'VOC2010/'\n",
    "IMG_PATH = folder+'JPEGImages/'\n",
    "ANN_PATH = folder+'Annotations_Part/'"
   ]
  },
  {
   "cell_type": "code",
   "execution_count": 3,
   "id": "dc4d931a",
   "metadata": {},
   "outputs": [],
   "source": [
    "file_train = folder+'ImageSets/Main/train.txt'\n",
    "file_val = folder+'ImageSets/Main/val.txt'\n",
    "\n",
    "files_train = pd.read_csv(file_train, sep=' ', names=['file'])\n",
    "files_train['split'] = 'train'\n",
    "files_val = pd.read_csv(file_val, sep=' ', names=['file'])\n",
    "files_val['split'] = 'val'\n",
    "\n",
    "files = pd.concat([files_train, files_val], ignore_index=True)\n",
    "\n",
    "classes = [c.split('_')[0] for c in os.listdir(folder+'ImageSets/Main') if c.endswith('_train.txt')]"
   ]
  },
  {
   "cell_type": "code",
   "execution_count": 4,
   "id": "e1f3ee54-b1ed-40c3-9da1-89d1839fbefc",
   "metadata": {},
   "outputs": [],
   "source": [
    "animals = ['sheep', 'dog', 'cow', 'cat', 'horse']"
   ]
  },
  {
   "cell_type": "markdown",
   "id": "b7888ec7-042e-41c4-bd66-2c3194230b59",
   "metadata": {},
   "source": [
    "# Process VOC2010 dataset"
   ]
  },
  {
   "cell_type": "code",
   "execution_count": 5,
   "id": "2cda0e92-daaf-4c44-9848-ad2cfbdf6ee4",
   "metadata": {},
   "outputs": [
    {
     "name": "stderr",
     "output_type": "stream",
     "text": [
      "\n",
      "KeyboardInterrupt\n",
      "\n"
     ]
    }
   ],
   "source": [
    "columns=['file', 'split', 'per_occ', 'detections', 'img_w', 'img_h', 'animals'] + classes\n",
    "df = pd.DataFrame(columns = columns)\n",
    "\n",
    "counter = 0\n",
    "\n",
    "for index, row in files.iterrows():\n",
    "    f_name=row.file\n",
    "    if os.path.isfile(ANN_PATH+f_name+'.mat'):\n",
    "        counter += 1\n",
    "        mat_file = loadmat(ANN_PATH+f_name+'.mat')\n",
    "\n",
    "        classes_info = np.zeros(len(classes), np.int32)\n",
    "        final_mask = np.zeros(mat_file['anno'][0][0][1][0][0][2].shape, np.int8)\n",
    "        animals_count = 0\n",
    "        for detection in mat_file['anno'][0][0][1][0]:\n",
    "            cat, cat_id, mask, mask_parts = detection\n",
    "            classes_info[cat_id[0][0]-1] += 1\n",
    "            final_mask = np.logical_or(final_mask, mask)\n",
    "            if cat in animals:\n",
    "                animals_count += 1\n",
    "        per_occ = final_mask.sum()/(final_mask.shape[0]*final_mask.shape[1])\n",
    "       \n",
    "        info = np.concatenate([[f_name, row.split, per_occ, len(mat_file['anno'][0][0][1][0]),final_mask.shape[1], final_mask.shape[0], animals_count], classes_info])    \n",
    "        df_row = pd.DataFrame([info], columns=columns)\n",
    "        df = pd.concat([df, df_row], axis=0)\n",
    "\n",
    "cols_int = ['detections', 'img_w', 'img_h'] + classes\n",
    "df[cols_int] = df[cols_int].astype(int)\n",
    "\n",
    "# Guardar el CSV\n",
    "df.to_csv('voc2010_info.csv', index=False)"
   ]
  },
  {
   "cell_type": "markdown",
   "id": "2f3c65cd-c1a3-4fa2-86a1-246306e6b197",
   "metadata": {},
   "source": [
    "# Filter dataset"
   ]
  },
  {
   "cell_type": "code",
   "execution_count": 6,
   "id": "7b0e553e-3401-4baa-aaf9-517ea4f1778b",
   "metadata": {},
   "outputs": [],
   "source": [
    "PATH_data = 'dataset/'\n",
    "IMG_PATH_data = PATH_data+'images/'\n",
    "ANN_PATH_data = PATH_data+'annotations/'"
   ]
  },
  {
   "cell_type": "code",
   "execution_count": 7,
   "id": "99058311-2535-4faa-875f-32c3266af459",
   "metadata": {},
   "outputs": [],
   "source": [
    "df = pd.read_csv('voc2010_info.csv')"
   ]
  },
  {
   "cell_type": "code",
   "execution_count": 11,
   "id": "8fcbbaff-8d32-4956-ab8f-a435848d581f",
   "metadata": {},
   "outputs": [
    {
     "name": "stdout",
     "output_type": "stream",
     "text": [
      "Cat \t Imgs \t Train \t Val \t %Occupation\n",
      "sheep \t 96 \t 51 \t 45 \t 0.2886039996430471 0.23131196278693494 0.9744543429844098\n",
      "dog \t 701 \t 351 \t 350 \t 0.3137457986858771 0.2906366366366366 0.9953493333333332\n",
      "cow \t 106 \t 58 \t 48 \t 0.26646911903663134 0.18444466066066062 0.8629161676646706\n",
      "cat \t 717 \t 353 \t 364 \t 0.37630319767611536 0.3564429530201342 1.0\n",
      "horse \t 148 \t 69 \t 79 \t 0.28260008694909383 0.2566160833333333 0.9516696696696696\n"
     ]
    },
    {
     "data": {
      "image/png": "[encoded data removed]",
      "text/plain": [
       "<Figure size 640x480 with 1 Axes>"
      ]
     },
     "metadata": {},
     "output_type": "display_data"
    }
   ],
   "source": [
    "print('Cat', '\\t', 'Imgs', '\\t', 'Train', '\\t','Val', '\\t', '%Occupation')\n",
    "bottom = np.zeros(100)\n",
    "bins = np.linspace(0, 1, 101)  # 100 bins → 101 bin edges\n",
    "bin_centers = 0.5 * (bins[:-1] + bins[1:])\n",
    "\n",
    "for a in animals:\n",
    "    df_a = df[(df['detections']==1) & (df[a]>0)]\n",
    "    df_at = df_a[df_a['split']=='train']\n",
    "    df_av = df_a[df_a['split']=='val']\n",
    "    print(a, '\\t', len(df_a), '\\t', len(df_at), '\\t',len(df_av), '\\t', df_a['per_occ'].mean(), df_a['per_occ'].median(), df_a['per_occ'].max())\n",
    "    counts, _ = np.histogram(df_a['per_occ'], bins=bins)\n",
    "    plt.bar(bin_centers, counts, width=0.009, bottom=bottom, label=a)\n",
    "    bottom += counts\n",
    "plt.legend()\n",
    "plt.axvline(x=0.5, color='red', linestyle='--', linewidth=1.5, label='0.75 threshold')\n",
    "plt.show()"
   ]
  },
  {
   "cell_type": "code",
   "execution_count": 12,
   "id": "faab559f-f126-4796-aacd-ca4edc035f89",
   "metadata": {},
   "outputs": [],
   "source": [
    "df_filter = df[(df['detections']==1) & (df['per_occ']<=0.5) & (df['animals']==1) ]#((df['cow']>0) | (df['horse']>0))]\n",
    "#animals = ['sheep', 'dog', 'cow', 'cat', 'horse']"
   ]
  },
  {
   "cell_type": "code",
   "execution_count": 13,
   "id": "8a2f6c6e-f647-4e1e-955f-89a1ec2d40c8",
   "metadata": {},
   "outputs": [],
   "source": [
    "if os.path.exists(PATH_data):\n",
    "    shutil.rmtree(PATH_data)\n",
    "\n",
    "for p in [PATH_data, IMG_PATH_data, ANN_PATH_data]:\n",
    "    os.mkdir(p)"
   ]
  },
  {
   "cell_type": "code",
   "execution_count": 14,
   "id": "d4291491-c478-49a7-88ce-0e1f615b2f44",
   "metadata": {},
   "outputs": [],
   "source": [
    "columns_data=['file', 'split', 'per_occ', 'cat', 'img_w', 'img_h']\n",
    "df_data = pd.DataFrame(columns = columns_data)\n",
    "\n",
    "for index, row in df_filter.iterrows():\n",
    "    if os.path.isfile(IMG_PATH+row.file+'.jpg'):\n",
    "        if row.sheep == 1:\n",
    "            cat = 'sheep'\n",
    "        elif row.dog == 1:\n",
    "            cat = 'dog'\n",
    "        elif row.cow == 1:\n",
    "            cat = 'cow'\n",
    "        elif row.horse == 1:\n",
    "            cat = 'horse'\n",
    "        else:\n",
    "            cat = 'cat'\n",
    "        info = np.concatenate([[row.file, row.split, row.per_occ, cat ,row.img_w, row.img_h]])    \n",
    "        df_row = pd.DataFrame([info], columns=columns_data)\n",
    "        df_data = pd.concat([df_data, df_row], axis=0)\n",
    "        shutil.copy(IMG_PATH+row.file+'.jpg', IMG_PATH_data)\n",
    "        shutil.copy(ANN_PATH+row.file+'.mat', ANN_PATH_data)\n",
    "\n",
    "df_data.to_csv('dataset_info.csv', index=False)"
   ]
  },
  {
   "cell_type": "code",
   "execution_count": null,
   "id": "976ddf09-4f5d-4626-bc8d-6b8fa65e409b",
   "metadata": {},
   "outputs": [],
   "source": []
  },
  {
   "cell_type": "code",
   "execution_count": null,
   "id": "848fdf92-7ddd-4a9c-8205-662236cad6ef",
   "metadata": {},
   "outputs": [],
   "source": []
  }
 ],
 "metadata": {
  "kernelspec": {
   "display_name": "Python 3 (ipykernel)",
   "language": "python",
   "name": "python3"
  },
  "language_info": {
   "codemirror_mode": {
    "name": "ipython",
    "version": 3
   },
   "file_extension": ".py",
   "mimetype": "text/x-python",
   "name": "python",
   "nbconvert_exporter": "python",
   "pygments_lexer": "ipython3",
   "version": "3.10.15"
  }
 },
 "nbformat": 4,
 "nbformat_minor": 5
}
