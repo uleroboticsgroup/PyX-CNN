{
 "cells": [
  {
   "cell_type": "code",
   "execution_count": 1,
   "id": "f52e4978-21ff-41f3-950d-12c1657cfbc4",
   "metadata": {},
   "outputs": [],
   "source": [
    "import os\n",
    "os.environ[\"KERAS_BACKEND\"] = \"tensorflow\"\n",
    "os.environ['TF_CPP_MIN_LOG_LEVEL'] = '3'  # 0 = todos los mensajes, 1 = INFO, 2 = WARNING, 3 = ERROR\n",
    "import numpy as np\n",
    "import keras\n",
    "from IPython.display import Image, display\n",
    "import matplotlib as mpl\n",
    "import matplotlib.pyplot as plt\n",
    "import tensorflow as tf\n",
    "import numpy as np\n",
    "import pandas as pd\n",
    "import cv2\n",
    "from matplotlib import cm\n",
    "from scipy.ndimage import label"
   ]
  },
  {
   "cell_type": "code",
   "execution_count": 2,
   "id": "aa48ed1f-2ae0-4ed0-baa0-c4bd1c990567",
   "metadata": {},
   "outputs": [],
   "source": [
    "from tensorflow.keras.models import Model\n",
    "from sklearn.feature_selection import mutual_info_classif\n",
    "from sklearn.preprocessing import MinMaxScaler\n",
    "from tensorflow.keras.preprocessing.image import ImageDataGenerator"
   ]
  },
  {
   "cell_type": "code",
   "execution_count": 3,
   "id": "cd049017-8664-48f8-900f-7164fddd3a9e",
   "metadata": {},
   "outputs": [],
   "source": [
    "from data import part_classes, animals"
   ]
  },
  {
   "cell_type": "code",
   "execution_count": 4,
   "id": "d9618190-b26d-4de4-b4bf-ceb35a80bc3c",
   "metadata": {},
   "outputs": [],
   "source": [
    "IMG_SIZE = (360,468)\n",
    "total_pixels = IMG_SIZE[0]*IMG_SIZE[1]\n",
    "pixel_region = round(total_pixels*0.02)"
   ]
  },
  {
   "cell_type": "code",
   "execution_count": 5,
   "id": "d5ad7eac-831c-453e-980b-c303a1ce58fa",
   "metadata": {},
   "outputs": [],
   "source": [
    "OPTION = 0\n",
    "if OPTION == 1:\n",
    "    model_name = 'vgg16_without_model'\n",
    "    data_metrics_file = 'dataset_info_parts_metrics_methods_without'\n",
    "else:\n",
    "    model_name = 'vgg16_model'\n",
    "    data_metrics_file = 'dataset_info_parts_metrics_methods'"
   ]
  },
  {
   "cell_type": "code",
   "execution_count": 6,
   "id": "3db89827-cb8c-4fe2-95c5-4b1b7bfc88d7",
   "metadata": {},
   "outputs": [],
   "source": [
    "model = tf.keras.models.load_model(model_name+'.h5')\n",
    "conv_layers= [l.name for l in model.layers if l.__class__.__name__.endswith('Conv2D')]\n",
    "dense_layers= [l.name for l in model.layers if l.__class__.__name__.endswith('Dense')]\n",
    "last_conv_layer_name = conv_layers[-1]"
   ]
  },
  {
   "cell_type": "code",
   "execution_count": 7,
   "id": "3d9b7871-332a-438d-9098-23f4f80e52ec",
   "metadata": {},
   "outputs": [],
   "source": [
    "df = pd.read_csv('dataset_info_parts.csv')\n",
    "PATH_data = 'dataset/'\n",
    "IMG_RESIZE_PATH_data = PATH_data+'images_resize/'\n",
    "ANN_RESIZE_PATH_data = PATH_data+'annotations_resize/'\n",
    "IMG_SIZE = (360,468)\n",
    "BATCH_SIZE = 32\n",
    "df['file_path'] = IMG_RESIZE_PATH_data + df['file']+'.jpg'\n",
    "animals = ['sheep', 'dog', 'cow', 'cat', 'horse']\n",
    "\n",
    "df[['pred_id', 'pred_ok', 'cat_id']] = np.nan\n",
    "df[['mean_act_obj', 'mean_act_back', 'perc_act_obj', 'perc_act_back']] = np.nan"
   ]
  },
  {
   "cell_type": "code",
   "execution_count": 8,
   "id": "cdedcfb5-83f6-4460-b63f-5189f56de2e3",
   "metadata": {},
   "outputs": [],
   "source": [
    "array = np.array([])\n",
    "array_y = np.array([])\n",
    "for animal in animals:\n",
    "    df_a = df[df['cat']==animal]\n",
    "    cat_id = animals.index(animal)\n",
    "    count = 0\n",
    "    for index, row in df_a.iterrows():\n",
    "        img = cv2.cvtColor(cv2.imread(row.file_path),cv2.COLOR_BGR2RGB)\n",
    "        if len(array)==0:\n",
    "            array=np.expand_dims(img.astype(np.float32), axis=0)\n",
    "        else:\n",
    "            array = np.concatenate([array, [img]],axis=0)\n",
    "        if len(array_y)==0:\n",
    "            array_y = np.array([cat_id])\n",
    "        else:\n",
    "            array_y = np.concatenate([array_y, [cat_id]],axis=0)\n",
    "        count += 1\n",
    "        if count>10:\n",
    "            break     \n",
    "            "
   ]
  },
  {
   "cell_type": "code",
   "execution_count": 9,
   "id": "5f8b3d9e-b8ab-4a2c-bf03-33f45566e42a",
   "metadata": {},
   "outputs": [
    {
     "name": "stdout",
     "output_type": "stream",
     "text": [
      "28/28 [==============================] - 13s 14ms/step\n",
      "{'layer': 'block1_conv1', 'mean': 0.07239285462193065, 'std': 0.06926841810294017, 'max': 0.2491387493426358, 'min': 0.0, 'median': 0.06441109536401757}\n",
      "28/28 [==============================] - 1s 13ms/step\n",
      "{'layer': 'block1_conv2', 'mean': 0.07026441592057237, 'std': 0.0847958761517525, 'max': 0.32794669544606103, 'min': 0.0, 'median': 0.04242371327144867}\n",
      "28/28 [==============================] - 1s 16ms/step\n",
      "{'layer': 'block2_conv1', 'mean': 0.07709995075784945, 'std': 0.07946867157915825, 'max': 0.2905349879038823, 'min': 0.0, 'median': 0.052115918809745976}\n",
      "28/28 [==============================] - 1s 15ms/step\n",
      "{'layer': 'block2_conv2', 'mean': 0.10234306309476912, 'std': 0.09552078055678807, 'max': 0.49860631561183544, 'min': 0.0, 'median': 0.08377875327974937}\n",
      "28/28 [==============================] - 1s 20ms/step\n",
      "{'layer': 'block3_conv1', 'mean': 0.08195555527356646, 'std': 0.09116632618843235, 'max': 0.48106551915324314, 'min': 0.0, 'median': 0.05557393772217001}\n",
      "28/28 [==============================] - 1s 23ms/step\n",
      "{'layer': 'block3_conv2', 'mean': 0.09905590837310524, 'std': 0.09269537390189644, 'max': 0.39195685986510176, 'min': 0.0, 'median': 0.07966456564528634}\n",
      "28/28 [==============================] - 2s 26ms/step\n",
      "{'layer': 'block3_conv3', 'mean': 0.09997286724778176, 'std': 0.09242638885298517, 'max': 0.42018212021153944, 'min': 0.0, 'median': 0.08033114519279572}\n",
      "28/28 [==============================] - 1s 21ms/step\n",
      "{'layer': 'block4_conv1', 'mean': 0.09738114279792466, 'std': 0.09494810327186733, 'max': 0.46137865253753185, 'min': 0.0, 'median': 0.07437098938594411}\n",
      "28/28 [==============================] - 1s 26ms/step\n",
      "{'layer': 'block4_conv2', 'mean': 0.09961031832058645, 'std': 0.09663249266644855, 'max': 0.44745211459897094, 'min': 0.0, 'median': 0.07687327713662695}\n",
      "28/28 [==============================] - 2s 30ms/step\n",
      "{'layer': 'block4_conv3', 'mean': 0.0832942568078602, 'std': 0.08494733343649608, 'max': 0.41993539010573677, 'min': 0.0, 'median': 0.06351796594083292}\n",
      "28/28 [==============================] - 1s 27ms/step\n",
      "{'layer': 'block5_conv1', 'mean': 0.09366517164770292, 'std': 0.09341129707510036, 'max': 0.47715268847783765, 'min': 0.0, 'median': 0.07030120462685652}\n",
      "28/28 [==============================] - 1s 30ms/step\n",
      "{'layer': 'block5_conv2', 'mean': 0.09409341760319129, 'std': 0.09825142774539772, 'max': 0.4578844797314825, 'min': 0.0, 'median': 0.06492514735288535}\n",
      "28/28 [==============================] - 1s 35ms/step\n",
      "{'layer': 'block5_conv3', 'mean': 0.08132057442874173, 'std': 0.0864977122891413, 'max': 0.49259623067781755, 'min': 0.0, 'median': 0.057431244729442055}\n",
      "28/28 [==============================] - 1s 36ms/step\n",
      "{'layer': 'dense', 'mean': 0.09065660638643591, 'std': 0.09550327399164782, 'max': 0.4078131179006288, 'min': 0.0, 'median': 0.06509218722065313}\n",
      "28/28 [==============================] - 1s 27ms/step\n",
      "{'layer': 'dense_1', 'mean': 0.10853677376557994, 'std': 0.11222664175654157, 'max': 0.43585047840353175, 'min': 0.0, 'median': 0.08599763426540741}\n",
      "28/28 [==============================] - 2s 35ms/step\n",
      "{'layer': 'dense_2', 'mean': 0.5022130222076424, 'std': 0.08924542977686686, 'max': 0.6152199323436935, 'min': 0.36863605957788037, 'median': 0.4934015999923793}\n"
     ]
    }
   ],
   "source": [
    "data = {}\n",
    "all_stats = []\n",
    "for conv_layer in conv_layers+dense_layers:\n",
    "    intermediate_layer_model = Model(inputs=model.input,outputs=model.get_layer(conv_layer).output)\n",
    "    activations = intermediate_layer_model.predict(array,batch_size=2)  # (1000, h, w, c)\n",
    "    if conv_layer.startswith('block'):\n",
    "        n_samples, h, w, c = activations.shape\n",
    "        flattened = activations.reshape(n_samples, -1)  # (1000, h*w*c)\n",
    "        mean_per_filter = flattened.reshape(n_samples, h*w, c).mean(axis=1)\n",
    "    else:\n",
    "        n_samples, d = activations.shape\n",
    "        mean_per_filter = activations.reshape(n_samples, -1)  # (1000, h*w*c)\n",
    "        #mean_per_filter = flattened.reshape(n_samples, d).mean(axis=1)\n",
    "    scaler = MinMaxScaler()\n",
    "    X_scaled = scaler.fit_transform(mean_per_filter)\n",
    "    mi_scores = mutual_info_classif(X_scaled, array_y)\n",
    "    data[conv_layer] = mi_scores\n",
    "    \"\"\"\n",
    "    plt.figure(figsize=(12, 5))\n",
    "    plt.bar(range(len(mi_scores)), mi_scores)\n",
    "    plt.xlabel(\"Índice de filtro (canal)\")\n",
    "    plt.ylabel(\"MIS con clase\")\n",
    "    plt.title(f\"Mutual Information Score - Capa: {conv_layer}\")\n",
    "    plt.show()\n",
    "    \"\"\"\n",
    "    summary_stats = {\n",
    "        'layer': conv_layer,\n",
    "        'mean': np.mean(mi_scores),\n",
    "        'std': np.std(mi_scores),\n",
    "        'max': np.max(mi_scores),\n",
    "        'min': np.min(mi_scores),\n",
    "        'median': np.median(mi_scores)\n",
    "    }\n",
    "    print(summary_stats)\n",
    "    all_stats.append(summary_stats)\n",
    "\n",
    "df_stats = pd.DataFrame(all_stats)\n",
    "df_stats.to_csv('mis_stats_'+str(OPTION)+'.csv', index=False)"
   ]
  },
  {
   "cell_type": "code",
   "execution_count": null,
   "id": "827e0216-1520-4cc5-b83e-79a68e960d7a",
   "metadata": {},
   "outputs": [],
   "source": []
  },
  {
   "cell_type": "code",
   "execution_count": null,
   "id": "3c1e2fbe-e15b-42ce-9416-292f637b4dda",
   "metadata": {},
   "outputs": [],
   "source": []
  }
 ],
 "metadata": {
  "kernelspec": {
   "display_name": "Python 3 (ipykernel)",
   "language": "python",
   "name": "python3"
  },
  "language_info": {
   "codemirror_mode": {
    "name": "ipython",
    "version": 3
   },
   "file_extension": ".py",
   "mimetype": "text/x-python",
   "name": "python",
   "nbconvert_exporter": "python",
   "pygments_lexer": "ipython3",
   "version": "3.10.16"
  }
 },
 "nbformat": 4,
 "nbformat_minor": 5
}
