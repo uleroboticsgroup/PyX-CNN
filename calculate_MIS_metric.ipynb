{
 "cells": [
  {
   "cell_type": "code",
   "execution_count": 1,
   "id": "f52e4978-21ff-41f3-950d-12c1657cfbc4",
   "metadata": {},
   "outputs": [],
   "source": [
    "import os\n",
    "os.environ[\"KERAS_BACKEND\"] = \"tensorflow\"\n",
    "os.environ['TF_CPP_MIN_LOG_LEVEL'] = '3'  # 0 = todos los mensajes, 1 = INFO, 2 = WARNING, 3 = ERROR\n",
    "import numpy as np\n",
    "import keras\n",
    "from IPython.display import Image, display\n",
    "import matplotlib as mpl\n",
    "import matplotlib.pyplot as plt\n",
    "import tensorflow as tf\n",
    "import numpy as np\n",
    "import pandas as pd\n",
    "import cv2\n",
    "from matplotlib import cm\n",
    "from scipy.ndimage import label"
   ]
  },
  {
   "cell_type": "code",
   "execution_count": 2,
   "id": "aa48ed1f-2ae0-4ed0-baa0-c4bd1c990567",
   "metadata": {},
   "outputs": [],
   "source": [
    "from tensorflow.keras.models import Model\n",
    "from sklearn.feature_selection import mutual_info_classif\n",
    "from sklearn.preprocessing import MinMaxScaler\n",
    "from tensorflow.keras.preprocessing.image import ImageDataGenerator"
   ]
  },
  {
   "cell_type": "code",
   "execution_count": 3,
   "id": "cd049017-8664-48f8-900f-7164fddd3a9e",
   "metadata": {},
   "outputs": [],
   "source": [
    "from data import part_classes, animals"
   ]
  },
  {
   "cell_type": "code",
   "execution_count": 4,
   "id": "d9618190-b26d-4de4-b4bf-ceb35a80bc3c",
   "metadata": {},
   "outputs": [],
   "source": [
    "IMG_SIZE = (360,468)\n",
    "total_pixels = IMG_SIZE[0]*IMG_SIZE[1]\n",
    "pixel_region = round(total_pixels*0.02)"
   ]
  },
  {
   "cell_type": "code",
   "execution_count": 5,
   "id": "d5ad7eac-831c-453e-980b-c303a1ce58fa",
   "metadata": {},
   "outputs": [],
   "source": [
    "OPTION = 1\n",
    "if OPTION == 1:\n",
    "    model_name = 'vgg16_without_model'\n",
    "    data_metrics_file = 'dataset_info_parts_metrics_methods_without'\n",
    "else:\n",
    "    model_name = 'vgg16_model'\n",
    "    data_metrics_file = 'dataset_info_parts_metrics_methods'"
   ]
  },
  {
   "cell_type": "code",
   "execution_count": 6,
   "id": "3db89827-cb8c-4fe2-95c5-4b1b7bfc88d7",
   "metadata": {},
   "outputs": [],
   "source": [
    "model = tf.keras.models.load_model(model_name+'.h5')\n",
    "conv_layers= [l.name for l in model.layers if l.__class__.__name__.endswith('Conv2D')]\n",
    "dense_layers= [l.name for l in model.layers if l.__class__.__name__.endswith('Dense')]\n",
    "last_conv_layer_name = conv_layers[-1]"
   ]
  },
  {
   "cell_type": "code",
   "execution_count": 7,
   "id": "3d9b7871-332a-438d-9098-23f4f80e52ec",
   "metadata": {},
   "outputs": [],
   "source": [
    "df = pd.read_csv('dataset_info_parts.csv')\n",
    "PATH_data = 'dataset/'\n",
    "IMG_RESIZE_PATH_data = PATH_data+'images_resize/'\n",
    "ANN_RESIZE_PATH_data = PATH_data+'annotations_resize/'\n",
    "IMG_SIZE = (360,468)\n",
    "BATCH_SIZE = 32\n",
    "df['file_path'] = IMG_RESIZE_PATH_data + df['file']+'.jpg'\n",
    "animals = ['sheep', 'dog', 'cow', 'cat', 'horse']\n",
    "\n",
    "df[['pred_id', 'pred_ok', 'cat_id']] = np.nan\n",
    "df[['mean_act_obj', 'mean_act_back', 'perc_act_obj', 'perc_act_back']] = np.nan"
   ]
  },
  {
   "cell_type": "code",
   "execution_count": 8,
   "id": "cdedcfb5-83f6-4460-b63f-5189f56de2e3",
   "metadata": {},
   "outputs": [],
   "source": [
    "array = np.array([])\n",
    "array_y = np.array([])\n",
    "for animal in animals:\n",
    "    df_a = df[df['cat']==animal]\n",
    "    cat_id = animals.index(animal)\n",
    "    count = 0\n",
    "    for index, row in df_a.iterrows():\n",
    "        img = cv2.cvtColor(cv2.imread(row.file_path),cv2.COLOR_BGR2RGB)\n",
    "        if len(array)==0:\n",
    "            array=np.expand_dims(img.astype(np.float32), axis=0)\n",
    "        else:\n",
    "            array = np.concatenate([array, [img]],axis=0)\n",
    "        if len(array_y)==0:\n",
    "            array_y = np.array([cat_id])\n",
    "        else:\n",
    "            array_y = np.concatenate([array_y, [cat_id]],axis=0)\n",
    "        count += 1\n",
    "        if count>10:\n",
    "            break     \n",
    "            "
   ]
  },
  {
   "cell_type": "code",
   "execution_count": 9,
   "id": "5f8b3d9e-b8ab-4a2c-bf03-33f45566e42a",
   "metadata": {},
   "outputs": [
    {
     "name": "stdout",
     "output_type": "stream",
     "text": [
      "28/28 [==============================] - 9s 11ms/step\n",
      "{'layer': 'block1_conv1', 'mean': 0.049918904968625645, 'std': 0.055187797774577274, 'max': 0.20803059567481386, 'min': 0.0, 'median': 0.03325973407321903}\n",
      "28/28 [==============================] - 1s 13ms/step\n",
      "{'layer': 'block1_conv2', 'mean': 0.06691162766234414, 'std': 0.07104261345168872, 'max': 0.23826428376626874, 'min': 0.0, 'median': 0.045350634545170854}\n",
      "28/28 [==============================] - 1s 16ms/step\n",
      "{'layer': 'block2_conv1', 'mean': 0.08715941804097203, 'std': 0.0799422631487306, 'max': 0.32258698153499266, 'min': 0.0, 'median': 0.07451535140389542}\n",
      "28/28 [==============================] - 1s 15ms/step\n",
      "{'layer': 'block2_conv2', 'mean': 0.08155707549169677, 'std': 0.08195154658465481, 'max': 0.3101969799845108, 'min': 0.0, 'median': 0.07144664265023071}\n",
      "28/28 [==============================] - 1s 18ms/step\n",
      "{'layer': 'block3_conv1', 'mean': 0.07415506375329903, 'std': 0.07833544320283428, 'max': 0.30496204129686477, 'min': 0.0, 'median': 0.05807764235289059}\n",
      "28/28 [==============================] - 1s 22ms/step\n",
      "{'layer': 'block3_conv2', 'mean': 0.08212671925029118, 'std': 0.07732924815112624, 'max': 0.32852278497487264, 'min': 0.0, 'median': 0.07122530742092548}\n",
      "28/28 [==============================] - 2s 27ms/step\n",
      "{'layer': 'block3_conv3', 'mean': 0.08670016833660886, 'std': 0.08234357901759301, 'max': 0.3420223751451146, 'min': 0.0, 'median': 0.07854664586006987}\n",
      "28/28 [==============================] - 1s 21ms/step\n",
      "{'layer': 'block4_conv1', 'mean': 0.07507540191681694, 'std': 0.07571106531611231, 'max': 0.34248861422863364, 'min': 0.0, 'median': 0.056660136246756254}\n",
      "28/28 [==============================] - 1s 27ms/step\n",
      "{'layer': 'block4_conv2', 'mean': 0.09212512107423132, 'std': 0.08444389154460212, 'max': 0.31880779614028887, 'min': 0.0, 'median': 0.07708560464167502}\n",
      "28/28 [==============================] - 2s 31ms/step\n",
      "{'layer': 'block4_conv3', 'mean': 0.1061703190977063, 'std': 0.08181390868415435, 'max': 0.4077458591287324, 'min': 0.0, 'median': 0.09639847133293644}\n",
      "28/28 [==============================] - 1s 26ms/step\n",
      "{'layer': 'block5_conv1', 'mean': 0.08934314845075511, 'std': 0.08366967964089424, 'max': 0.3414895978803951, 'min': 0.0, 'median': 0.07284415766482288}\n",
      "28/28 [==============================] - 2s 29ms/step\n",
      "{'layer': 'block5_conv2', 'mean': 0.08077888774839298, 'std': 0.08161590562383454, 'max': 0.43654293343168593, 'min': 0.0, 'median': 0.06143560526821368}\n",
      "28/28 [==============================] - 1s 38ms/step\n",
      "{'layer': 'block5_conv3', 'mean': 0.0918976888922168, 'std': 0.08692780549670502, 'max': 0.4062560980211303, 'min': 0.0, 'median': 0.07587087658236413}\n",
      "28/28 [==============================] - 1s 35ms/step\n",
      "{'layer': 'dense', 'mean': 0.07055691198910047, 'std': 0.08611236903428493, 'max': 0.3606052297690656, 'min': 0.0, 'median': 0.03008958534408368}\n",
      "28/28 [==============================] - 1s 35ms/step\n",
      "{'layer': 'dense_1', 'mean': 0.10298630456220738, 'std': 0.09797823944507063, 'max': 0.44106376825760263, 'min': 0.0, 'median': 0.08010548751980573}\n",
      "28/28 [==============================] - 2s 36ms/step\n",
      "{'layer': 'dense_2', 'mean': 0.19493793455266709, 'std': 0.07067374210124397, 'max': 0.29358106758310276, 'min': 0.07655699186816589, 'median': 0.1917229875989941}\n"
     ]
    }
   ],
   "source": [
    "data = {}\n",
    "all_stats = []\n",
    "for conv_layer in conv_layers+dense_layers:\n",
    "    intermediate_layer_model = Model(inputs=model.input,outputs=model.get_layer(conv_layer).output)\n",
    "    activations = intermediate_layer_model.predict(array,batch_size=2)  # (1000, h, w, c)\n",
    "    if conv_layer.startswith('block'):\n",
    "        n_samples, h, w, c = activations.shape\n",
    "        flattened = activations.reshape(n_samples, -1)  # (1000, h*w*c)\n",
    "        mean_per_filter = flattened.reshape(n_samples, h*w, c).mean(axis=1)\n",
    "    else:\n",
    "        n_samples, d = activations.shape\n",
    "        mean_per_filter = activations.reshape(n_samples, -1)  # (1000, h*w*c)\n",
    "        #mean_per_filter = flattened.reshape(n_samples, d).mean(axis=1)\n",
    "    scaler = MinMaxScaler()\n",
    "    X_scaled = scaler.fit_transform(mean_per_filter)\n",
    "    mi_scores = mutual_info_classif(X_scaled, array_y)\n",
    "    data[conv_layer] = mi_scores\n",
    "    \"\"\"\n",
    "    plt.figure(figsize=(12, 5))\n",
    "    plt.bar(range(len(mi_scores)), mi_scores)\n",
    "    plt.xlabel(\"Índice de filtro (canal)\")\n",
    "    plt.ylabel(\"MIS con clase\")\n",
    "    plt.title(f\"Mutual Information Score - Capa: {conv_layer}\")\n",
    "    plt.show()\n",
    "    \"\"\"\n",
    "    summary_stats = {\n",
    "        'layer': conv_layer,\n",
    "        'mean': np.mean(mi_scores),\n",
    "        'std': np.std(mi_scores),\n",
    "        'max': np.max(mi_scores),\n",
    "        'min': np.min(mi_scores),\n",
    "        'median': np.median(mi_scores)\n",
    "    }\n",
    "    print(summary_stats)\n",
    "    all_stats.append(summary_stats)\n",
    "\n",
    "df_stats = pd.DataFrame(all_stats)\n",
    "df_stats.to_csv('mis_stats_'+str(OPTION)+'.csv', index=False)"
   ]
  },
  {
   "cell_type": "code",
   "execution_count": null,
   "id": "827e0216-1520-4cc5-b83e-79a68e960d7a",
   "metadata": {},
   "outputs": [],
   "source": []
  },
  {
   "cell_type": "code",
   "execution_count": null,
   "id": "3c1e2fbe-e15b-42ce-9416-292f637b4dda",
   "metadata": {},
   "outputs": [],
   "source": []
  }
 ],
 "metadata": {
  "kernelspec": {
   "display_name": "Python 3 (ipykernel)",
   "language": "python",
   "name": "python3"
  },
  "language_info": {
   "codemirror_mode": {
    "name": "ipython",
    "version": 3
   },
   "file_extension": ".py",
   "mimetype": "text/x-python",
   "name": "python",
   "nbconvert_exporter": "python",
   "pygments_lexer": "ipython3",
   "version": "3.10.16"
  }
 },
 "nbformat": 4,
 "nbformat_minor": 5
}
